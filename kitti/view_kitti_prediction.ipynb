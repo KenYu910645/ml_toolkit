{
 "cells": [
  {
   "cell_type": "code",
   "execution_count": 1,
   "metadata": {},
   "outputs": [
    {
     "name": "stderr",
     "output_type": "stream",
     "text": [
      "/home/lab530/anaconda3/envs/KenYuGAC/lib/python3.7/site-packages/tqdm/auto.py:22: TqdmWarning: IProgress not found. Please update jupyter and ipywidgets. See https://ipywidgets.readthedocs.io/en/stable/user_install.html\n",
      "  from .autonotebook import tqdm as notebook_tqdm\n"
     ]
    }
   ],
   "source": [
    "# Draw 2D bounding box on image \n",
    "import cv2\n",
    "import time\n",
    "import os\n",
    "from util_kitti import init_img_plt, draw_2Dbox, kitti_label_file_parser, draw_corner_2D, draw_birdeyes, kitti_calib_file_parser\n",
    "import random \n",
    "import copy\n",
    "random.seed(2222)\n",
    "NUM_IMAGE_SHOW = 20\n",
    "\n",
    "# TODO \n",
    "# images files \n",
    "IMG_DIR = \"/home/lab530/KenYu/kitti/training/image_2/\"\n",
    "# Anotations files \n",
    "ANO_DIR = \"/home/lab530/KenYu/kitti/training/label_2/\"\n",
    "# Prediction files\n",
    "PRD_DIR = \"/home/lab530/KenYu/pytorch-retinanet/checkpoint/2D_detection_crop_feature_map_pretrain_result/\" # \"/home/lab530/KenYu/pytorch-retinanet/checkpoint/2D_detection_3/result/\"\n",
    "# \n",
    "CAR_DIR = \"/home/lab530/KenYu/kitti/training/calib/\""
   ]
  },
  {
   "cell_type": "code",
   "execution_count": 2,
   "metadata": {},
   "outputs": [
    {
     "ename": "ValueError",
     "evalue": "Number of rows must be a positive integer, not 0",
     "output_type": "error",
     "traceback": [
      "\u001b[0;31m---------------------------------------------------------------------------\u001b[0m",
      "\u001b[0;31mValueError\u001b[0m                                Traceback (most recent call last)",
      "\u001b[0;32m/tmp/ipykernel_13739/1890634178.py\u001b[0m in \u001b[0;36m<module>\u001b[0;34m\u001b[0m\n\u001b[1;32m     24\u001b[0m     \u001b[0mchose_img\u001b[0m\u001b[0;34m.\u001b[0m\u001b[0mappend\u001b[0m\u001b[0;34m(\u001b[0m\u001b[0mimg\u001b[0m\u001b[0;34m)\u001b[0m\u001b[0;34m\u001b[0m\u001b[0;34m\u001b[0m\u001b[0m\n\u001b[1;32m     25\u001b[0m \u001b[0;34m\u001b[0m\u001b[0m\n\u001b[0;32m---> 26\u001b[0;31m \u001b[0maxs\u001b[0m \u001b[0;34m=\u001b[0m \u001b[0minit_img_plt\u001b[0m\u001b[0;34m(\u001b[0m\u001b[0mchose_img\u001b[0m\u001b[0;34m,\u001b[0m \u001b[0mtitles\u001b[0m \u001b[0;34m=\u001b[0m \u001b[0mchose_name\u001b[0m\u001b[0;34m)\u001b[0m\u001b[0;34m\u001b[0m\u001b[0;34m\u001b[0m\u001b[0m\n\u001b[0m\u001b[1;32m     27\u001b[0m \u001b[0;34m\u001b[0m\u001b[0m\n\u001b[1;32m     28\u001b[0m \u001b[0;32mfor\u001b[0m \u001b[0mi\u001b[0m\u001b[0;34m,\u001b[0m \u001b[0mimg_name\u001b[0m \u001b[0;32min\u001b[0m \u001b[0menumerate\u001b[0m\u001b[0;34m(\u001b[0m\u001b[0mchose_name\u001b[0m\u001b[0;34m)\u001b[0m\u001b[0;34m:\u001b[0m\u001b[0;34m\u001b[0m\u001b[0;34m\u001b[0m\u001b[0m\n",
      "\u001b[0;32m~/KenYu/ml_toolkit/kitti/util_kitti.py\u001b[0m in \u001b[0;36minit_img_plt\u001b[0;34m(imgs, titles)\u001b[0m\n\u001b[1;32m    406\u001b[0m     \u001b[0mplt\u001b[0m\u001b[0;34m.\u001b[0m\u001b[0msubplots_adjust\u001b[0m\u001b[0;34m(\u001b[0m\u001b[0mwspace\u001b[0m\u001b[0;34m=\u001b[0m\u001b[0;36m0\u001b[0m\u001b[0;34m,\u001b[0m \u001b[0mhspace\u001b[0m\u001b[0;34m=\u001b[0m\u001b[0;36m0\u001b[0m\u001b[0;34m)\u001b[0m\u001b[0;34m\u001b[0m\u001b[0;34m\u001b[0m\u001b[0m\n\u001b[1;32m    407\u001b[0m \u001b[0;34m\u001b[0m\u001b[0m\n\u001b[0;32m--> 408\u001b[0;31m     \u001b[0mgs\u001b[0m \u001b[0;34m=\u001b[0m \u001b[0mGridSpec\u001b[0m\u001b[0;34m(\u001b[0m\u001b[0mnum_plot\u001b[0m\u001b[0;34m,\u001b[0m \u001b[0;36m4\u001b[0m\u001b[0;34m)\u001b[0m\u001b[0;34m\u001b[0m\u001b[0;34m\u001b[0m\u001b[0m\n\u001b[0m\u001b[1;32m    409\u001b[0m     \u001b[0mgs\u001b[0m\u001b[0;34m.\u001b[0m\u001b[0mupdate\u001b[0m\u001b[0;34m(\u001b[0m\u001b[0mwspace\u001b[0m\u001b[0;34m=\u001b[0m\u001b[0;36m0\u001b[0m\u001b[0;34m)\u001b[0m  \u001b[0;31m# set the spacing between axes\u001b[0m\u001b[0;34m\u001b[0m\u001b[0;34m\u001b[0m\u001b[0m\n\u001b[1;32m    410\u001b[0m \u001b[0;34m\u001b[0m\u001b[0m\n",
      "\u001b[0;32m~/anaconda3/envs/KenYuGAC/lib/python3.7/site-packages/matplotlib/gridspec.py\u001b[0m in \u001b[0;36m__init__\u001b[0;34m(self, nrows, ncols, figure, left, bottom, right, top, wspace, hspace, width_ratios, height_ratios)\u001b[0m\n\u001b[1;32m    385\u001b[0m         super().__init__(nrows, ncols,\n\u001b[1;32m    386\u001b[0m                          \u001b[0mwidth_ratios\u001b[0m\u001b[0;34m=\u001b[0m\u001b[0mwidth_ratios\u001b[0m\u001b[0;34m,\u001b[0m\u001b[0;34m\u001b[0m\u001b[0;34m\u001b[0m\u001b[0m\n\u001b[0;32m--> 387\u001b[0;31m                          height_ratios=height_ratios)\n\u001b[0m\u001b[1;32m    388\u001b[0m \u001b[0;34m\u001b[0m\u001b[0m\n\u001b[1;32m    389\u001b[0m     \u001b[0m_AllowedKeys\u001b[0m \u001b[0;34m=\u001b[0m \u001b[0;34m[\u001b[0m\u001b[0;34m\"left\"\u001b[0m\u001b[0;34m,\u001b[0m \u001b[0;34m\"bottom\"\u001b[0m\u001b[0;34m,\u001b[0m \u001b[0;34m\"right\"\u001b[0m\u001b[0;34m,\u001b[0m \u001b[0;34m\"top\"\u001b[0m\u001b[0;34m,\u001b[0m \u001b[0;34m\"wspace\"\u001b[0m\u001b[0;34m,\u001b[0m \u001b[0;34m\"hspace\"\u001b[0m\u001b[0;34m]\u001b[0m\u001b[0;34m\u001b[0m\u001b[0;34m\u001b[0m\u001b[0m\n",
      "\u001b[0;32m~/anaconda3/envs/KenYuGAC/lib/python3.7/site-packages/matplotlib/gridspec.py\u001b[0m in \u001b[0;36m__init__\u001b[0;34m(self, nrows, ncols, height_ratios, width_ratios)\u001b[0m\n\u001b[1;32m     48\u001b[0m         \u001b[0;32mif\u001b[0m \u001b[0;32mnot\u001b[0m \u001b[0misinstance\u001b[0m\u001b[0;34m(\u001b[0m\u001b[0mnrows\u001b[0m\u001b[0;34m,\u001b[0m \u001b[0mIntegral\u001b[0m\u001b[0;34m)\u001b[0m \u001b[0;32mor\u001b[0m \u001b[0mnrows\u001b[0m \u001b[0;34m<=\u001b[0m \u001b[0;36m0\u001b[0m\u001b[0;34m:\u001b[0m\u001b[0;34m\u001b[0m\u001b[0;34m\u001b[0m\u001b[0m\n\u001b[1;32m     49\u001b[0m             raise ValueError(\n\u001b[0;32m---> 50\u001b[0;31m                 f\"Number of rows must be a positive integer, not {nrows!r}\")\n\u001b[0m\u001b[1;32m     51\u001b[0m         \u001b[0;32mif\u001b[0m \u001b[0;32mnot\u001b[0m \u001b[0misinstance\u001b[0m\u001b[0;34m(\u001b[0m\u001b[0mncols\u001b[0m\u001b[0;34m,\u001b[0m \u001b[0mIntegral\u001b[0m\u001b[0;34m)\u001b[0m \u001b[0;32mor\u001b[0m \u001b[0mncols\u001b[0m \u001b[0;34m<=\u001b[0m \u001b[0;36m0\u001b[0m\u001b[0;34m:\u001b[0m\u001b[0;34m\u001b[0m\u001b[0;34m\u001b[0m\u001b[0m\n\u001b[1;32m     52\u001b[0m             raise ValueError(\n",
      "\u001b[0;31mValueError\u001b[0m: Number of rows must be a positive integer, not 0"
     ]
    },
    {
     "data": {
      "text/plain": [
       "<Figure size 1800x0 with 0 Axes>"
      ]
     },
     "metadata": {},
     "output_type": "display_data"
    }
   ],
   "source": [
    "img_names = [i.split('.')[0] for i in os.listdir(PRD_DIR)]\n",
    "\n",
    "random.shuffle(img_names)\n",
    "chose_name = img_names[:NUM_IMAGE_SHOW]\n",
    "# chose_img  = [cv2.imread(os.path.join(IMG_DIR, f\"{i}.png\")) for i in chose_name]\n",
    "\n",
    "# Transform image \n",
    "chose_img = []\n",
    "chose_P2  = []\n",
    "for name in chose_name:\n",
    "    img = cv2.imread(os.path.join(IMG_DIR, f\"{name}.png\"))\n",
    "    img_ori_h, img_ori_w, _ = img.shape\n",
    "    \n",
    "    P2 = kitti_calib_file_parser(os.path.join(CAR_DIR, f\"{name}.txt\"))\n",
    "\n",
    "    # # Resize\n",
    "    # P2[0, :] *= 1280  / img_ori_w\n",
    "    # P2[1, :] *= 384   / img_ori_h\n",
    "    \n",
    "    chose_P2.append(P2)\n",
    "    \n",
    "    # img = cv2.resize(img, (1280, 384))\n",
    "    \n",
    "    chose_img.append(img)\n",
    "\n",
    "axs = init_img_plt(chose_img, titles = chose_name)\n",
    "\n",
    "for i, img_name in enumerate(chose_name):\n",
    "    \n",
    "    # Load predictions\n",
    "    with open(os.path.join(PRD_DIR, f\"{img_name}.txt\")) as f:\n",
    "        lines = f.read().splitlines()\n",
    "        lines = list(lines for lines in lines if lines) # Delete empty lines\n",
    "    \n",
    "    # Draw predictions on image\n",
    "    for l in lines:\n",
    "        l_list = l.split()\n",
    "        if float(l_list[-1]) > 0.5: \n",
    "            draw_2Dbox(axs[i][0], (float(l_list[4]), float(l_list[5]), float(l_list[6]), float(l_list[7])), color = (1,0,0))\n",
    "    \n",
    "    # Load annotation\n",
    "    # with open(os.path.join(ANO_DIR, f\"{img_name}.txt\")) as f:\n",
    "    #     lines = f.read().splitlines()\n",
    "    #     lines = list(lines for lines in lines if lines) # Delete empty lines\n",
    "    objs = kitti_label_file_parser(os.path.join(ANO_DIR, f\"{img_name}.txt\"), tf_matrix = chose_P2[i])\n",
    "\n",
    "    # Draw annotation on image\n",
    "    for obj in objs:\n",
    "        if obj.category == \"Car\":\n",
    "            draw_2Dbox(axs[i][0], (obj.xmin, obj.ymin, obj.xmax, obj.ymax), color = (0,1,0))\n",
    "            draw_birdeyes(axs[i][1], obj, color = (0,1,0), title = \"123\", is_print_confident = False)\n",
    "            # draw_corner_2D(axs[i][0], obj.corner_2D, color = (0,1,0), is_draw_front = True)\n",
    "\n"
   ]
  }
 ],
 "metadata": {
  "kernelspec": {
   "display_name": "KenYuGAC",
   "language": "python",
   "name": "python3"
  },
  "language_info": {
   "codemirror_mode": {
    "name": "ipython",
    "version": 3
   },
   "file_extension": ".py",
   "mimetype": "text/x-python",
   "name": "python",
   "nbconvert_exporter": "python",
   "pygments_lexer": "ipython3",
   "version": "3.7.13 (default, Mar 29 2022, 02:18:16) \n[GCC 7.5.0]"
  },
  "orig_nbformat": 4,
  "vscode": {
   "interpreter": {
    "hash": "41834c68c700588d0f590972b90bd5fc1287968ef8ac14541c718b1faa3dadc0"
   }
  }
 },
 "nbformat": 4,
 "nbformat_minor": 2
}
